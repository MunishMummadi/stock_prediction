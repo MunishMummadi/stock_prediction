{
 "cells": [
  {
   "cell_type": "markdown",
   "metadata": {},
   "source": [
    "# Stock Price Prediction Analysis\n",
    "\n",
    "This notebook demonstrates the usage of our stock prediction model and analyzes its performance."
   ]
  },
  {
   "cell_type": "code",
   "execution_count": null,
   "metadata": {},
   "source": [
    "import sys\n",
    "sys.path.append('..')\n",
    "\n",
    "from src.data.stock_data import StockDataLoader\n",
    "from src.features.technical_indicators import TechnicalIndicators\n",
    "from src.models.predictor import StockPredictor\n",
    "from src.visualization.stock_plots import StockVisualizer\n",
    "\n",
    "import pandas as pd\n",
    "import numpy as np\n",
    "import matplotlib.pyplot as plt\n",
    "import seaborn as sns\n",
    "%matplotlib inline"
   ]
  },
  {
   "cell_type": "markdown",
   "metadata": {},
   "source": [
    "## 1. Load and Prepare Data"
   ]
  },
  {
   "cell_type": "code",
   "execution_count": null,
   "metadata": {},
   "source": [
    "# Initialize components\n",
    "data_loader = StockDataLoader()\n",
    "raw_data = data_loader.fetch_stock_data('AAPL')\n",
    "raw_data.head()"
   ]
  },
  {
   "cell_type": "markdown",
   "metadata": {},
   "source": [
    "## 2. Calculate Technical Indicators"
   ]
  },
  {
   "cell_type": "code",
   "execution_count": null,
   "metadata": {},
   "source": [
    "indicators = TechnicalIndicators()\n",
    "data_with_features = indicators.calculate_all_features(raw_data)\n",
    "data_with_features.head()"
   ]
  }
 ],
 "metadata": {
  "kernelspec": {
   "display_name": "Python 3",
   "language": "python",
   "name": "python3"
  }
 }
}
